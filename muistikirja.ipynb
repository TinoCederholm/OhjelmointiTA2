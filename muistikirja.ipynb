{
 "metadata": {
  "language_info": {
   "codemirror_mode": {
    "name": "ipython",
    "version": 3
   },
   "file_extension": ".py",
   "mimetype": "text/x-python",
   "name": "python",
   "nbconvert_exporter": "python",
   "pygments_lexer": "ipython3",
   "version": "3.9.1-final"
  },
  "orig_nbformat": 2,
  "kernelspec": {
   "name": "python3",
   "display_name": "Python 3.9.1 64-bit",
   "metadata": {
    "interpreter": {
     "hash": "a24a58780a1ab0d9b51d25bf43a5dd07805581eb93440edbb86bdf625b0c7d7d"
    }
   }
  }
 },
 "nbformat": 4,
 "nbformat_minor": 2,
 "cells": [
  {
   "source": [
    "# Painonhallinta\n",
    "Prototyyppi painonhallintasovellksen rakentamiseksi "
   ],
   "cell_type": "markdown",
   "metadata": {}
  },
  {
   "source": [
    "## Laskentakaavat\n",
    "Painoindeksi BMI (Body Mass Index): paino (kg) / (pituus(m) x pituus(m))\n",
    "\n",
    "Aikuisen rasvaprosentti = (1.20 × painoindeksi) + (0.23 × ikä) − (10.8 × sukupuoli) − 5.4\n",
    "\n",
    "Lapsen rasvaprosentti = (1.51 × painoindeksi) − (0.70 × ikä) − (3.6 × sukupuoli) + 1.4\n",
    "\n",
    "Sukupuolikoodaus: miehet 1, naiset 0"
   ],
   "cell_type": "code",
   "metadata": {},
   "execution_count": null,
   "outputs": []
  },
  {
   "cell_type": "code",
   "execution_count": 2,
   "metadata": {},
   "outputs": [],
   "source": [
    "def bmi(paino, pituus):\n",
    "    painoindeksi = paino / pituus ** 2\n",
    "    return painoindeksi\n",
    "\n",
    "# Testataan toiminta\n",
    "oma_bmi = bmi(73, 1.71)"
   ]
  },
  {
   "cell_type": "code",
   "execution_count": 3,
   "metadata": {},
   "outputs": [],
   "source": [
    "def rasvaprosentti(bmi, ika, sukupuoli):\n",
    "    rprosentti = 1.2 * bmi + 0.23 * ika - 10.8 * sukupuoli - 5.4\n",
    "    return rprosentti\n",
    "\n",
    "oma_rasvaprosentti = rasvaprosentti(oma_bmi, 58, 1)"
   ]
  },
  {
   "cell_type": "code",
   "execution_count": null,
   "metadata": {},
   "outputs": [],
   "source": [
    "paino_str = input('Anna painosi kilogrammoina: ')\n",
    "pituus_str = input('Anna pituutesi metreinä: ')\n",
    "ika_str = input('kuinka vanha olet: ')\n",
    "sukupuoli_str = input('paina 1, jos olet mies, 0 jos olet nainen: ') "
   ]
  },
  {
   "cell_type": "code",
   "execution_count": null,
   "metadata": {},
   "outputs": [],
   "source": [
    "# Muutetaan merkkojonot luvuiksi\n",
    "paino = float(paino_str)\n",
    "pituus = float(pituus_str)\n",
    "ika = float(ika_str)\n",
    "sukupuoli = float(sukupuoli_str)\n"
   ]
  },
  {
   "cell_type": "code",
   "execution_count": 2,
   "metadata": {},
   "outputs": [
    {
     "output_type": "error",
     "ename": "NameError",
     "evalue": "name 'bmi' is not defined",
     "traceback": [
      "\u001b[1;31m---------------------------------------------------------------------------\u001b[0m",
      "\u001b[1;31mNameError\u001b[0m                                 Traceback (most recent call last)",
      "\u001b[1;32m<ipython-input-2-8b62a7d54ae0>\u001b[0m in \u001b[0;36m<module>\u001b[1;34m\u001b[0m\n\u001b[1;32m----> 1\u001b[1;33m \u001b[0mbmi\u001b[0m \u001b[1;33m=\u001b[0m \u001b[0mbmi\u001b[0m\u001b[1;33m(\u001b[0m\u001b[0mpaino\u001b[0m\u001b[1;33m,\u001b[0m \u001b[0mpituus\u001b[0m\u001b[1;33m)\u001b[0m\u001b[1;33m\u001b[0m\u001b[1;33m\u001b[0m\u001b[0m\n\u001b[0m\u001b[0;32m      2\u001b[0m \u001b[1;33m\u001b[0m\u001b[0m\n\u001b[0;32m      3\u001b[0m \u001b[0mrasvaprosentti\u001b[0m \u001b[1;33m=\u001b[0m \u001b[0mrasvaprosentti\u001b[0m\u001b[1;33m(\u001b[0m\u001b[0mbmi\u001b[0m\u001b[1;33m,\u001b[0m \u001b[0mika\u001b[0m\u001b[1;33m,\u001b[0m \u001b[0msukupuoli\u001b[0m\u001b[1;33m)\u001b[0m\u001b[1;33m\u001b[0m\u001b[1;33m\u001b[0m\u001b[0m\n\u001b[0;32m      4\u001b[0m \u001b[0mprint\u001b[0m\u001b[1;33m(\u001b[0m\u001b[1;34m'rasvaprosentti on'\u001b[0m\u001b[1;33m,\u001b[0m \u001b[0mrasvaprosentti\u001b[0m\u001b[1;33m)\u001b[0m\u001b[1;33m\u001b[0m\u001b[1;33m\u001b[0m\u001b[0m\n",
      "\u001b[1;31mNameError\u001b[0m: name 'bmi' is not defined"
     ]
    }
   ],
   "source": [
    "bmi = bmi(paino, pituus)\n",
    "\n",
    "rasvaprosentti = rasvaprosentti(bmi, ika, sukupuoli)\n",
    "print('rasvaprosentti on', rasvaprosentti)"
   ]
  },
  {
   "cell_type": "code",
   "execution_count": null,
   "metadata": {},
   "outputs": [],
   "source": []
  }
 ]
}